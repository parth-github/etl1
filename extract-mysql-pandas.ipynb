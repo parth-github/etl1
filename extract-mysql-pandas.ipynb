{
 "cells": [
  {
   "cell_type": "code",
   "execution_count": 2,
   "metadata": {},
   "outputs": [],
   "source": [
    "import configparser\n",
    "import mysql.connector\n",
    "from mysql.connector import errorcode\n",
    "import pandas as pd\n",
    "from db_queries import select_queries\n",
    "import os"
   ]
  },
  {
   "cell_type": "markdown",
   "metadata": {},
   "source": [
    "### Parse the DB Configuration file"
   ]
  },
  {
   "cell_type": "code",
   "execution_count": 3,
   "metadata": {},
   "outputs": [
    {
     "data": {
      "text/plain": [
       "['.my.cnf']"
      ]
     },
     "execution_count": 3,
     "metadata": {},
     "output_type": "execute_result"
    }
   ],
   "source": [
    "config = configparser.ConfigParser()\n",
    "config.read('.my.cnf')"
   ]
  },
  {
   "cell_type": "markdown",
   "metadata": {},
   "source": [
    "### Connect MySQL DB"
   ]
  },
  {
   "cell_type": "code",
   "execution_count": 4,
   "metadata": {},
   "outputs": [
    {
     "name": "stdout",
     "output_type": "stream",
     "text": [
      "Connected Successfully...\n",
      "(154, 12)\n",
      "Rank                    int64\n",
      "Title                  object\n",
      "Genre                  object\n",
      "Description            object\n",
      "Director               object\n",
      "Actors                 object\n",
      "Year                    int64\n",
      "Runtime (Minutes)       int64\n",
      "Rating                float64\n",
      "Votes                   int64\n",
      "Revenue (Millions)    float64\n",
      "Metascore             float64\n",
      "dtype: object\n"
     ]
    },
    {
     "name": "stderr",
     "output_type": "stream",
     "text": [
      "e:\\pyenv\\etl_projects\\lib\\site-packages\\pandas\\io\\sql.py:761: UserWarning: pandas only support SQLAlchemy connectable(engine/connection) ordatabase string URI or sqlite3 DBAPI2 connectionother DBAPI2 objects are not tested, please consider using SQLAlchemy\n",
      "  warnings.warn(\n"
     ]
    }
   ],
   "source": [
    "try:\n",
    "    cnx = mysql.connector.connect(**config['mysql'])\n",
    "    print('Connected Successfully...')\n",
    "    df = pd.read_sql(select_queries[0], cnx)\n",
    "    print(df.shape)\n",
    "    print(df.dtypes)\n",
    "\n",
    "except Exception as e:\n",
    "    print(f'Error...{e}')\n",
    "\n",
    "finally:\n",
    "    cnx.close()"
   ]
  },
  {
   "cell_type": "markdown",
   "metadata": {},
   "source": [
    "### Use Pandas filter"
   ]
  },
  {
   "cell_type": "code",
   "execution_count": 5,
   "metadata": {},
   "outputs": [
    {
     "name": "stdout",
     "output_type": "stream",
     "text": [
      "[2014 2012 2016 2015 2007 2011 2008 2006 2009 2010 2013]\n"
     ]
    }
   ],
   "source": [
    "print(df['Year'].unique())\n"
   ]
  },
  {
   "cell_type": "markdown",
   "metadata": {},
   "source": [
    "### Create a filter variable"
   ]
  },
  {
   "cell_type": "code",
   "execution_count": 6,
   "metadata": {},
   "outputs": [
    {
     "name": "stdout",
     "output_type": "stream",
     "text": [
      "Rank                  97\n",
      "Title                 97\n",
      "Genre                 97\n",
      "Description           97\n",
      "Director              97\n",
      "Actors                97\n",
      "Year                  97\n",
      "Runtime (Minutes)     97\n",
      "Rating                97\n",
      "Votes                 97\n",
      "Revenue (Millions)    84\n",
      "Metascore             90\n",
      "dtype: int64\n"
     ]
    }
   ],
   "source": [
    "yr_2016 = df['Year'] == 2016\n",
    "print(df[yr_2016].count())"
   ]
  },
  {
   "cell_type": "markdown",
   "metadata": {},
   "source": [
    "### Write CSV file to local directory in OS File path\n"
   ]
  },
  {
   "cell_type": "code",
   "execution_count": 7,
   "metadata": {},
   "outputs": [
    {
     "name": "stdout",
     "output_type": "stream",
     "text": [
      "e:\\ETLProject1\\etl1\\data_files\\movies_2016.csv\n"
     ]
    }
   ],
   "source": [
    "cur_path = os.getcwd()\n",
    "file = 'movies_2016.csv'\n",
    "file_path = os.path.join(cur_path, 'data_files', file )\n",
    "print(file_path)"
   ]
  },
  {
   "cell_type": "code",
   "execution_count": 8,
   "metadata": {},
   "outputs": [],
   "source": [
    "df[yr_2016].to_csv(file_path)"
   ]
  },
  {
   "cell_type": "markdown",
   "metadata": {},
   "source": [
    "### Create year wise data files"
   ]
  },
  {
   "cell_type": "code",
   "execution_count": 11,
   "metadata": {},
   "outputs": [
    {
     "name": "stdout",
     "output_type": "stream",
     "text": [
      "e:\\ETLProject1\\etl1\\data_files\\movies_2014.csv\n",
      "e:\\ETLProject1\\etl1\\data_files\\movies_2012.csv\n",
      "e:\\ETLProject1\\etl1\\data_files\\movies_2016.csv\n",
      "e:\\ETLProject1\\etl1\\data_files\\movies_2015.csv\n",
      "e:\\ETLProject1\\etl1\\data_files\\movies_2007.csv\n",
      "e:\\ETLProject1\\etl1\\data_files\\movies_2011.csv\n",
      "e:\\ETLProject1\\etl1\\data_files\\movies_2008.csv\n",
      "e:\\ETLProject1\\etl1\\data_files\\movies_2006.csv\n",
      "e:\\ETLProject1\\etl1\\data_files\\movies_2009.csv\n",
      "e:\\ETLProject1\\etl1\\data_files\\movies_2010.csv\n",
      "e:\\ETLProject1\\etl1\\data_files\\movies_2013.csv\n"
     ]
    }
   ],
   "source": [
    "years = df['Year'].unique()\n",
    "\n",
    "for yr in df['Year'].unique():\n",
    "    file = f'movies_{yr}.csv'\n",
    "    file_path = os.path.join(cur_path, 'data_files', file )\n",
    "    print(file_path)\n",
    "    df[df['Year'] == yr].to_csv(file_path, index=False)"
   ]
  }
 ],
 "metadata": {
  "interpreter": {
   "hash": "16c605ba9dbcc2e2b875aac9d54e7dfcce8af60834620c4b2ea0628394d9262d"
  },
  "kernelspec": {
   "display_name": "Python 3.10.2 ('etl_projects')",
   "language": "python",
   "name": "python3"
  },
  "language_info": {
   "codemirror_mode": {
    "name": "ipython",
    "version": 3
   },
   "file_extension": ".py",
   "mimetype": "text/x-python",
   "name": "python",
   "nbconvert_exporter": "python",
   "pygments_lexer": "ipython3",
   "version": "3.10.2"
  },
  "orig_nbformat": 4
 },
 "nbformat": 4,
 "nbformat_minor": 2
}
