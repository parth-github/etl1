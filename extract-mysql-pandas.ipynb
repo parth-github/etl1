{
 "cells": [
  {
   "cell_type": "code",
   "execution_count": 63,
   "metadata": {},
   "outputs": [],
   "source": [
    "import configparser\n",
    "import mysql.connector\n",
    "from mysql.connector import errorcode\n",
    "import pandas as pd\n",
    "from db_queries import select_queries\n",
    "import os"
   ]
  },
  {
   "cell_type": "markdown",
   "metadata": {},
   "source": [
    "### Parse the DB Configuration file"
   ]
  },
  {
   "cell_type": "code",
   "execution_count": 52,
   "metadata": {},
   "outputs": [
    {
     "data": {
      "text/plain": [
       "['.my.cnf']"
      ]
     },
     "execution_count": 52,
     "metadata": {},
     "output_type": "execute_result"
    }
   ],
   "source": [
    "config = configparser.ConfigParser()\n",
    "config.read('.my.cnf')"
   ]
  },
  {
   "cell_type": "markdown",
   "metadata": {},
   "source": [
    "### Connect MySQL DB"
   ]
  },
  {
   "cell_type": "code",
   "execution_count": 53,
   "metadata": {},
   "outputs": [
    {
     "name": "stdout",
     "output_type": "stream",
     "text": [
      "Connected Successfully...\n",
      "   Rank                    Title                     Genre  \\\n",
      "0     1  Guardians of the Galaxy   Action,Adventure,Sci-Fi   \n",
      "1     2               Prometheus  Adventure,Mystery,Sci-Fi   \n",
      "2     3                    Split           Horror,Thriller   \n",
      "\n",
      "                                         Description            Director  \\\n",
      "0  A group of intergalactic criminals are forced ...          James Gunn   \n",
      "1  Following clues to the origin of mankind, a te...        Ridley Scott   \n",
      "2  Three girls are kidnapped by a man with a diag...  M. Night Shyamalan   \n",
      "\n",
      "                                              Actors  Year  Runtime (Minutes)  \\\n",
      "0  Chris Pratt, Vin Diesel, Bradley Cooper, Zoe S...  2014                121   \n",
      "1  Noomi Rapace, Logan Marshall-Green, Michael Fa...  2012                124   \n",
      "2  James McAvoy, Anya Taylor-Joy, Haley Lu Richar...  2016                117   \n",
      "\n",
      "   Rating   Votes  Revenue (Millions)  Metascore  \n",
      "0     8.1  757074              333.13         76  \n",
      "1     7.0  485820              126.46         65  \n",
      "2     7.3  157606              138.12         62  \n",
      "Rank                    int64\n",
      "Title                  object\n",
      "Genre                  object\n",
      "Description            object\n",
      "Director               object\n",
      "Actors                 object\n",
      "Year                    int64\n",
      "Runtime (Minutes)       int64\n",
      "Rating                float64\n",
      "Votes                   int64\n",
      "Revenue (Millions)    float64\n",
      "Metascore               int64\n",
      "dtype: object\n"
     ]
    },
    {
     "name": "stderr",
     "output_type": "stream",
     "text": [
      "e:\\pyenv\\etl_projects\\lib\\site-packages\\pandas\\io\\sql.py:761: UserWarning: pandas only support SQLAlchemy connectable(engine/connection) ordatabase string URI or sqlite3 DBAPI2 connectionother DBAPI2 objects are not tested, please consider using SQLAlchemy\n",
      "  warnings.warn(\n"
     ]
    }
   ],
   "source": [
    "try:\n",
    "    cnx = mysql.connector.connect(**config['mysql'])\n",
    "    print('Connected Successfully...')\n",
    "    df = pd.read_sql(select_queries[0], cnx)\n",
    "    print(df.head())\n",
    "    print(df.dtypes)\n",
    "\n",
    "except Exception as e:\n",
    "    print(f'Error...{e}')\n",
    "\n",
    "finally:\n",
    "    cnx.close()"
   ]
  },
  {
   "cell_type": "markdown",
   "metadata": {},
   "source": [
    "### Use Pandas filter"
   ]
  },
  {
   "cell_type": "code",
   "execution_count": 61,
   "metadata": {},
   "outputs": [
    {
     "name": "stdout",
     "output_type": "stream",
     "text": [
      "[2014 2012 2016]\n"
     ]
    }
   ],
   "source": [
    "print(df['Year'].unique())"
   ]
  },
  {
   "cell_type": "markdown",
   "metadata": {},
   "source": [
    "### Create a filter variable"
   ]
  },
  {
   "cell_type": "code",
   "execution_count": 67,
   "metadata": {},
   "outputs": [
    {
     "name": "stdout",
     "output_type": "stream",
     "text": [
      "Rank                  3\n",
      "Title                 3\n",
      "Genre                 3\n",
      "Description           3\n",
      "Director              3\n",
      "Actors                3\n",
      "Year                  3\n",
      "Runtime (Minutes)     3\n",
      "Rating                3\n",
      "Votes                 3\n",
      "Revenue (Millions)    3\n",
      "Metascore             3\n",
      "dtype: int64\n"
     ]
    }
   ],
   "source": [
    "yr_2016 = df['Year'] == 2014\n",
    "print(df.count())"
   ]
  },
  {
   "cell_type": "markdown",
   "metadata": {},
   "source": [
    "### Write CSV file to local directory in OS File path\n"
   ]
  },
  {
   "cell_type": "code",
   "execution_count": 56,
   "metadata": {},
   "outputs": [
    {
     "name": "stdout",
     "output_type": "stream",
     "text": [
      "e:\\ETLProject1\\etl1\\data_files\\movies.csv\n"
     ]
    }
   ],
   "source": [
    "cur_path = os.getcwd()\n",
    "file = 'movies.csv'\n",
    "file_path = os.path.join(cur_path, 'data_files', file )\n",
    "print(file_path)"
   ]
  },
  {
   "cell_type": "code",
   "execution_count": 58,
   "metadata": {},
   "outputs": [],
   "source": [
    "df[yr_2016].to_csv(file_path)"
   ]
  }
 ],
 "metadata": {
  "interpreter": {
   "hash": "16c605ba9dbcc2e2b875aac9d54e7dfcce8af60834620c4b2ea0628394d9262d"
  },
  "kernelspec": {
   "display_name": "Python 3.10.2 ('etl_projects')",
   "language": "python",
   "name": "python3"
  },
  "language_info": {
   "codemirror_mode": {
    "name": "ipython",
    "version": 3
   },
   "file_extension": ".py",
   "mimetype": "text/x-python",
   "name": "python",
   "nbconvert_exporter": "python",
   "pygments_lexer": "ipython3",
   "version": "3.10.2"
  },
  "orig_nbformat": 4
 },
 "nbformat": 4,
 "nbformat_minor": 2
}
