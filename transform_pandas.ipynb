{
 "cells": [
  {
   "cell_type": "code",
   "execution_count": 1,
   "metadata": {},
   "outputs": [],
   "source": [
    "import configparser\n",
    "import mysql.connector\n",
    "from mysql.connector import errorcode\n",
    "import pandas as pd\n",
    "from db_queries import select_queries\n",
    "import os"
   ]
  },
  {
   "cell_type": "code",
   "execution_count": 26,
   "metadata": {},
   "outputs": [
    {
     "name": "stdout",
     "output_type": "stream",
     "text": [
      "e:\\ETLProject1\\etl1\\data_files\\movies.csv\n"
     ]
    }
   ],
   "source": [
    "cur_path = os.getcwd()\n",
    "file = 'movies.csv'\n",
    "file_path = os.path.join(cur_path, 'data_files', file )\n",
    "print(file_path)"
   ]
  },
  {
   "cell_type": "code",
   "execution_count": 27,
   "metadata": {},
   "outputs": [],
   "source": [
    "df = pd.read_csv(file_path)"
   ]
  },
  {
   "cell_type": "code",
   "execution_count": 36,
   "metadata": {},
   "outputs": [
    {
     "name": "stdout",
     "output_type": "stream",
     "text": [
      "73\n",
      "161\n",
      "113.55670103092784\n",
      "103.0\n",
      "123.0\n"
     ]
    }
   ],
   "source": [
    "print(df['Runtime (Minutes)'].min())\n",
    "df['min_runtime'] = df['Runtime (Minutes)'].min()\n",
    "df['max_runtime'] = df['Runtime (Minutes)'].max()\n",
    "print(df['Runtime (Minutes)'].max())\n",
    "print(df['Runtime (Minutes)'].mean())\n",
    "print(df['Runtime (Minutes)'].quantile([0.25, 0.75]).iloc[0])\n",
    "print(df['Runtime (Minutes)'].quantile([0.25, 0.75]).iloc[1])\n"
   ]
  },
  {
   "cell_type": "code",
   "execution_count": 29,
   "metadata": {},
   "outputs": [],
   "source": [
    "\n",
    "quantile_1 = df['Runtime (Minutes)'].quantile([0.25, 0.75]).iloc[0]\n",
    "quantile_2 = df['Runtime (Minutes)'].quantile([0.25, 0.75]).iloc[1]\n",
    "median_runtime = df['Runtime (Minutes)'].median()\n",
    "\n",
    "def get_runtime_category(runtime):\n",
    "    if runtime > quantile_2: return 'Long Runtime'\n",
    "    elif runtime > median_runtime: return 'Medium Runtime'\n",
    "    elif runtime > quantile_1: return 'Short Runtime'\n",
    "    else: return 'Very Short runtime'"
   ]
  },
  {
   "cell_type": "code",
   "execution_count": 30,
   "metadata": {},
   "outputs": [],
   "source": [
    "df['Watchability'] = df['Runtime (Minutes)'].apply(get_runtime_category)"
   ]
  },
  {
   "cell_type": "code",
   "execution_count": 31,
   "metadata": {},
   "outputs": [],
   "source": [
    "def set_remarks(rating):\n",
    "    if rating > 100000: return 'Good'\n",
    "    elif rating > 10000: return 'Okay'\n",
    "    else: return 'Bad'"
   ]
  },
  {
   "cell_type": "code",
   "execution_count": 32,
   "metadata": {},
   "outputs": [],
   "source": [
    "df['rating_category'] = df['Rating'].apply(set_remarks)"
   ]
  },
  {
   "cell_type": "code",
   "execution_count": 35,
   "metadata": {},
   "outputs": [],
   "source": [
    "\n"
   ]
  },
  {
   "cell_type": "code",
   "execution_count": 37,
   "metadata": {},
   "outputs": [
    {
     "data": {
      "text/html": [
       "<div>\n",
       "<style scoped>\n",
       "    .dataframe tbody tr th:only-of-type {\n",
       "        vertical-align: middle;\n",
       "    }\n",
       "\n",
       "    .dataframe tbody tr th {\n",
       "        vertical-align: top;\n",
       "    }\n",
       "\n",
       "    .dataframe thead th {\n",
       "        text-align: right;\n",
       "    }\n",
       "</style>\n",
       "<table border=\"1\" class=\"dataframe\">\n",
       "  <thead>\n",
       "    <tr style=\"text-align: right;\">\n",
       "      <th></th>\n",
       "      <th>Unnamed: 0</th>\n",
       "      <th>Rank</th>\n",
       "      <th>Title</th>\n",
       "      <th>Genre</th>\n",
       "      <th>Description</th>\n",
       "      <th>Director</th>\n",
       "      <th>Actors</th>\n",
       "      <th>Year</th>\n",
       "      <th>Runtime (Minutes)</th>\n",
       "      <th>Rating</th>\n",
       "      <th>Votes</th>\n",
       "      <th>Revenue (Millions)</th>\n",
       "      <th>Metascore</th>\n",
       "      <th>Watchability</th>\n",
       "      <th>rating_category</th>\n",
       "      <th>max_runtime</th>\n",
       "      <th>min_runtime</th>\n",
       "    </tr>\n",
       "  </thead>\n",
       "  <tbody>\n",
       "    <tr>\n",
       "      <th>0</th>\n",
       "      <td>2</td>\n",
       "      <td>3</td>\n",
       "      <td>Split</td>\n",
       "      <td>Horror,Thriller</td>\n",
       "      <td>Three girls are kidnapped by a man with a diag...</td>\n",
       "      <td>M. Night Shyamalan</td>\n",
       "      <td>James McAvoy, Anya Taylor-Joy, Haley Lu Richar...</td>\n",
       "      <td>2016</td>\n",
       "      <td>117</td>\n",
       "      <td>7.3</td>\n",
       "      <td>157606</td>\n",
       "      <td>138.12</td>\n",
       "      <td>62.0</td>\n",
       "      <td>Medium Runtime</td>\n",
       "      <td>Bad</td>\n",
       "      <td>161</td>\n",
       "      <td>73</td>\n",
       "    </tr>\n",
       "    <tr>\n",
       "      <th>1</th>\n",
       "      <td>3</td>\n",
       "      <td>4</td>\n",
       "      <td>Sing</td>\n",
       "      <td>Animation,Comedy,Family</td>\n",
       "      <td>In a city of humanoid animals, a hustling thea...</td>\n",
       "      <td>Christophe Lourdelet</td>\n",
       "      <td>Matthew McConaughey,Reese Witherspoon, Seth Ma...</td>\n",
       "      <td>2016</td>\n",
       "      <td>108</td>\n",
       "      <td>7.2</td>\n",
       "      <td>60545</td>\n",
       "      <td>270.32</td>\n",
       "      <td>59.0</td>\n",
       "      <td>Short Runtime</td>\n",
       "      <td>Bad</td>\n",
       "      <td>161</td>\n",
       "      <td>73</td>\n",
       "    </tr>\n",
       "    <tr>\n",
       "      <th>2</th>\n",
       "      <td>4</td>\n",
       "      <td>5</td>\n",
       "      <td>Suicide Squad</td>\n",
       "      <td>Action,Adventure,Fantasy</td>\n",
       "      <td>A secret government agency recruits some of th...</td>\n",
       "      <td>David Ayer</td>\n",
       "      <td>Will Smith, Jared Leto, Margot Robbie, Viola D...</td>\n",
       "      <td>2016</td>\n",
       "      <td>123</td>\n",
       "      <td>6.2</td>\n",
       "      <td>393727</td>\n",
       "      <td>325.02</td>\n",
       "      <td>40.0</td>\n",
       "      <td>Medium Runtime</td>\n",
       "      <td>Bad</td>\n",
       "      <td>161</td>\n",
       "      <td>73</td>\n",
       "    </tr>\n",
       "    <tr>\n",
       "      <th>3</th>\n",
       "      <td>5</td>\n",
       "      <td>6</td>\n",
       "      <td>The Great Wall</td>\n",
       "      <td>Action,Adventure,Fantasy</td>\n",
       "      <td>European mercenaries searching for black powde...</td>\n",
       "      <td>Yimou Zhang</td>\n",
       "      <td>Matt Damon, Tian Jing, Willem Dafoe, Andy Lau</td>\n",
       "      <td>2016</td>\n",
       "      <td>103</td>\n",
       "      <td>6.1</td>\n",
       "      <td>56036</td>\n",
       "      <td>45.13</td>\n",
       "      <td>42.0</td>\n",
       "      <td>Very Short runtime</td>\n",
       "      <td>Bad</td>\n",
       "      <td>161</td>\n",
       "      <td>73</td>\n",
       "    </tr>\n",
       "    <tr>\n",
       "      <th>4</th>\n",
       "      <td>6</td>\n",
       "      <td>7</td>\n",
       "      <td>La La Land</td>\n",
       "      <td>Comedy,Drama,Music</td>\n",
       "      <td>A jazz pianist falls for an aspiring actress i...</td>\n",
       "      <td>Damien Chazelle</td>\n",
       "      <td>Ryan Gosling, Emma Stone, Rosemarie DeWitt, J....</td>\n",
       "      <td>2016</td>\n",
       "      <td>128</td>\n",
       "      <td>8.3</td>\n",
       "      <td>258682</td>\n",
       "      <td>151.06</td>\n",
       "      <td>93.0</td>\n",
       "      <td>Long Runtime</td>\n",
       "      <td>Bad</td>\n",
       "      <td>161</td>\n",
       "      <td>73</td>\n",
       "    </tr>\n",
       "  </tbody>\n",
       "</table>\n",
       "</div>"
      ],
      "text/plain": [
       "   Unnamed: 0  Rank           Title                     Genre  \\\n",
       "0           2     3           Split           Horror,Thriller   \n",
       "1           3     4            Sing   Animation,Comedy,Family   \n",
       "2           4     5   Suicide Squad  Action,Adventure,Fantasy   \n",
       "3           5     6  The Great Wall  Action,Adventure,Fantasy   \n",
       "4           6     7      La La Land        Comedy,Drama,Music   \n",
       "\n",
       "                                         Description              Director  \\\n",
       "0  Three girls are kidnapped by a man with a diag...    M. Night Shyamalan   \n",
       "1  In a city of humanoid animals, a hustling thea...  Christophe Lourdelet   \n",
       "2  A secret government agency recruits some of th...            David Ayer   \n",
       "3  European mercenaries searching for black powde...           Yimou Zhang   \n",
       "4  A jazz pianist falls for an aspiring actress i...       Damien Chazelle   \n",
       "\n",
       "                                              Actors  Year  Runtime (Minutes)  \\\n",
       "0  James McAvoy, Anya Taylor-Joy, Haley Lu Richar...  2016                117   \n",
       "1  Matthew McConaughey,Reese Witherspoon, Seth Ma...  2016                108   \n",
       "2  Will Smith, Jared Leto, Margot Robbie, Viola D...  2016                123   \n",
       "3      Matt Damon, Tian Jing, Willem Dafoe, Andy Lau  2016                103   \n",
       "4  Ryan Gosling, Emma Stone, Rosemarie DeWitt, J....  2016                128   \n",
       "\n",
       "   Rating   Votes  Revenue (Millions)  Metascore        Watchability  \\\n",
       "0     7.3  157606              138.12       62.0      Medium Runtime   \n",
       "1     7.2   60545              270.32       59.0       Short Runtime   \n",
       "2     6.2  393727              325.02       40.0      Medium Runtime   \n",
       "3     6.1   56036               45.13       42.0  Very Short runtime   \n",
       "4     8.3  258682              151.06       93.0        Long Runtime   \n",
       "\n",
       "  rating_category  max_runtime  min_runtime  \n",
       "0             Bad          161           73  \n",
       "1             Bad          161           73  \n",
       "2             Bad          161           73  \n",
       "3             Bad          161           73  \n",
       "4             Bad          161           73  "
      ]
     },
     "execution_count": 37,
     "metadata": {},
     "output_type": "execute_result"
    }
   ],
   "source": [
    "df.head()"
   ]
  },
  {
   "cell_type": "code",
   "execution_count": 38,
   "metadata": {},
   "outputs": [
    {
     "name": "stdout",
     "output_type": "stream",
     "text": [
      "e:\\ETLProject1\\etl1\\data_files\\movies_transformed.csv\n"
     ]
    }
   ],
   "source": [
    "cur_path = os.getcwd()\n",
    "file = 'movies_transformed.csv'\n",
    "file_path = os.path.join(cur_path, 'data_files', file )\n",
    "print(file_path)\n",
    "\n",
    "df.to_csv(file_path, index=False)"
   ]
  }
 ],
 "metadata": {
  "interpreter": {
   "hash": "16c605ba9dbcc2e2b875aac9d54e7dfcce8af60834620c4b2ea0628394d9262d"
  },
  "kernelspec": {
   "display_name": "Python 3.10.2 ('etl_projects')",
   "language": "python",
   "name": "python3"
  },
  "language_info": {
   "codemirror_mode": {
    "name": "ipython",
    "version": 3
   },
   "file_extension": ".py",
   "mimetype": "text/x-python",
   "name": "python",
   "nbconvert_exporter": "python",
   "pygments_lexer": "ipython3",
   "version": "3.10.2"
  },
  "orig_nbformat": 4
 },
 "nbformat": 4,
 "nbformat_minor": 2
}
